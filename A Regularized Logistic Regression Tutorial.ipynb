{
 "cells": [
  {
   "cell_type": "markdown",
   "metadata": {},
   "source": [
    "# A Python Regularized Logistic Regression Tutorial"
   ]
  },
  {
   "cell_type": "markdown",
   "metadata": {},
   "source": [
    "Regressão Logística é um modelo de regressão que relaciona *reponse variable* com um conjunto de *explanatory variables*, representando a probabilidade de ocorrência de uma *response variable* em termos de uma função de *explanatory variables*.\n",
    "\n",
    "\"regularization can address overfitting or underfitting.\"\n",
    "\n",
    "** Optimization and cross validation:** [Add basic information]\n",
    "\n",
    "**Explanatory variables:** são variáveis parcialmente independentes no estudos sobre a ocorrência de um determinado evento, ou seja, a associação entre as varáveis apoiam ou fornecem uma explicação para a ocorrência de um evento."
   ]
  },
  {
   "cell_type": "markdown",
   "metadata": {},
   "source": [
    "## Importing"
   ]
  },
  {
   "cell_type": "code",
   "execution_count": 144,
   "metadata": {
    "collapsed": true
   },
   "outputs": [],
   "source": [
    "import numpy as np\n",
    "import matplotlib as mp\n",
    "import matplotlib.pyplot as plt\n",
    "from scipy import optimize\n",
    "from mpl_toolkits.mplot3d import Axes3D"
   ]
  },
  {
   "cell_type": "markdown",
   "metadata": {},
   "source": [
    "## Loading data"
   ]
  },
  {
   "cell_type": "code",
   "execution_count": 145,
   "metadata": {
    "collapsed": true
   },
   "outputs": [],
   "source": [
    "data = np.genfromtxt('ex2data2.txt', delimiter=',')\n",
    "\n",
    "accepted = data[(data[:,2]==1)]\n",
    "rejected = data[(data[:,2]==0)]\n",
    "\n",
    "theta = np.array([0., 0., 0.])"
   ]
  },
  {
   "cell_type": "markdown",
   "metadata": {},
   "source": [
    "## Data Visualization\n",
    "\n",
    "Para o conjunto de dados em estudo, é possível criar um gráfico para visualizar seus pontos.\n",
    "\n",
    "A imagem abaixo nos permite entender a distribuição dos resultados dos testes em relação aos microchips que foram aprovados e rejeitados.\n",
    "\n",
    "A partir do resultado obtido, é possível observar que os dados não possuem uma distribuição linearmente separável."
   ]
  },
  {
   "cell_type": "code",
   "execution_count": 146,
   "metadata": {},
   "outputs": [
    {
     "data": {
      "image/png": "[encoded data removed]",
      "text/plain": [
       "<matplotlib.figure.Figure at 0x7efde6a20e10>"
      ]
     },
     "metadata": {},
     "output_type": "display_data"
    }
   ],
   "source": [
    "plt.close('all')\n",
    "\n",
    "fig, ax = plt.subplots(figsize=(12,8))  \n",
    "ax.scatter(accepted[:, 0], accepted[:,1], s=50, c='black', marker='x', label='Accepted')  \n",
    "ax.scatter(rejected[:, 0], rejected[:,1], s=50, c='yellow', marker='o', label='Rejected')  \n",
    "\n",
    "ax.legend()  \n",
    "ax.set_xlabel('Microchip Test 1')  \n",
    "ax.set_ylabel('Microchip Test 2')\n",
    "\n",
    "plt.show()"
   ]
  },
  {
   "cell_type": "markdown",
   "metadata": {},
   "source": [
    "## Feature mapping\n",
    "\n",
    "Uma vez que a Regresão Logística não é um método sofisticado para trabalhar com problemas não-lineares, é necessário criar novas *features* a partir das existentes de modo que seja possível especular a melhor fronteira de decisão obtida a partir das associações entre as duas *features* originais."
   ]
  },
  {
   "cell_type": "code",
   "execution_count": 166,
   "metadata": {
    "collapsed": true
   },
   "outputs": [],
   "source": [
    "\"\"\"\n",
    "    This function returns a new feature array given two features and a degree\n",
    "    x1 and x2 must be arrays with same size\n",
    "\"\"\"\n",
    "def map_feature(x1, x2, degree=6):\n",
    "    map_feature_size = x1.size\n",
    "    map_feature = np.ones(shape=(map_feature_size, 1))\n",
    "    \n",
    "    for i in range(1, degree + 1):\n",
    "        for j in range(i + 1):\n",
    "            \"\"\" Append values to the end of an array \"\"\"\n",
    "            column = (x1 ** (i - j)) * (x2 ** j)\n",
    "            map_feature = np.append(map_feature, column, axis=1)\n",
    "        \n",
    "    return map_feature"
   ]
  },
  {
   "cell_type": "code",
   "execution_count": 167,
   "metadata": {},
   "outputs": [
    {
     "name": "stdout",
     "output_type": "stream",
     "text": [
      "(118, 28)\n"
     ]
    }
   ],
   "source": [
    "x = data[:, :2]\n",
    "\n",
    "x1 = x[:, [0]]\n",
    "x2 = x[:, [1]]\n",
    "\n",
    "maped = map_feature(x1, x2)\n",
    "print(maped.shape)"
   ]
  },
  {
   "cell_type": "markdown",
   "metadata": {
    "collapsed": true
   },
   "source": [
    "### Cost function"
   ]
  },
  {
   "cell_type": "code",
   "execution_count": 168,
   "metadata": {
    "collapsed": true
   },
   "outputs": [],
   "source": [
    "def sigmoid_function(z):  \n",
    "    return 1 / (1 + np.exp(-z))"
   ]
  },
  {
   "cell_type": "code",
   "execution_count": 169,
   "metadata": {
    "collapsed": true
   },
   "outputs": [],
   "source": [
    "def cost_function(theta, x, y, pLambda = 1.):  \n",
    "    \n",
    "    m = len(x)\n",
    "    zero = 0.000001\n",
    "    \n",
    "    ''' Construct the hypothesis and avoid absolute zeros '''\n",
    "    param = (x.dot(theta))\n",
    "    hyphotesis = sigmoid_function(param)\n",
    "    hyphotesis[hyphotesis == 0] = zero\n",
    "    \n",
    "    ''' Also, compute the interval and avoid absolute zeros '''\n",
    "    interval = 1 - hyphotesis\n",
    "    interval[interval == 0] = zero\n",
    "    \n",
    "    y1 = y * np.log(hyphotesis)\n",
    "    y0 = (1 - y) * np.log(interval)\n",
    "    y2 = theta**2\n",
    "    \n",
    "    cost     = ((-1./m) * np.sum(y1 + y0)) + ((pLambda/(2*m)) * np.sum(y2))\n",
    "    \n",
    "    return cost"
   ]
  },
  {
   "cell_type": "markdown",
   "metadata": {},
   "source": [
    "Podemos testar a Função de Custo para um conjunto theta de zeros"
   ]
  },
  {
   "cell_type": "code",
   "execution_count": 171,
   "metadata": {},
   "outputs": [
    {
     "name": "stdout",
     "output_type": "stream",
     "text": [
      "Theta shape must be: 28 columns and 1 row\n",
      "(28,)\n",
      "Cost function output: \n",
      "0.69314718056\n"
     ]
    }
   ],
   "source": [
    "\"\"\" \n",
    "    We already have the mapped features : maped \n",
    "    So, we can use it as X input\n",
    "    \n",
    "    We need to input an array of thetas with the same shape of\n",
    "    the mapped array\n",
    "\"\"\"\n",
    "theta = np.zeros(maped.shape[1])\n",
    "y = data[:, 2]\n",
    "\n",
    "print('Theta shape must be: 28 columns and 1 row')\n",
    "print(theta.shape)\n",
    "\n",
    "cost = cost_function(theta, maped, y, pLambda = 1.)\n",
    "print('Cost function output: ')\n",
    "print(cost)"
   ]
  },
  {
   "cell_type": "markdown",
   "metadata": {},
   "source": [
    "### Gradient Descent"
   ]
  },
  {
   "cell_type": "code",
   "execution_count": 205,
   "metadata": {},
   "outputs": [],
   "source": [
    "def gradient_descent(x, y, theta, pLambda, tolerance, log=False):\n",
    "    m = y.size\n",
    "    episilon = 0.000001\n",
    "    zero     = 0.000001\n",
    "    residual = np.ones(tolerance)\n",
    "    J        = np.zeros(tolerance)\n",
    "    interact = 0\n",
    "    converge = False\n",
    "    \n",
    "    while not converge:\n",
    "        \n",
    "        ' Start adjusting theta values '\n",
    "        hypothesis = sigmoid_function(x.dot(theta))\n",
    "        error = hypothesis - y\n",
    "        \n",
    "        error[error == 0] = zero\n",
    "        \n",
    "        gradient = ((1./m) * (x.T.dot(error))) + ((pLambda/(2*m)) * theta)\n",
    "        \n",
    "        tmpTheta = theta\n",
    "        theta = theta - gradient\n",
    "        \n",
    "        ' Run the cost function over the data with new theta '\n",
    "        J[interact] = cost_function(theta, x, y, pLambda)\n",
    "        \n",
    "        step = abs(np.linalg.norm(theta) - np.linalg.norm(tmpTheta))        \n",
    "        converge = (step <= episilon)\n",
    "        \n",
    "        residual[interact] = step\n",
    "        \n",
    "        if interact % 100 == 0 and log:\n",
    "            ' The main idea here is to minimize the error value when evaluating the hypothesis '\n",
    "            print('Interaction ' + str(interact) + ', Redidual error output :' + str(J[interact]) + ', Step size: ' + str(step))\n",
    "        \n",
    "        if (interact + 1) == tolerance:\n",
    "            print('Caution! The routine has reached the maximum tolerance! Results may not converge.')\n",
    "            converge = True\n",
    "            \n",
    "        interact = interact + 1\n",
    "    \n",
    "    gradient[0] = gradient[0] - ((pLambda/(2*m)) * theta)[0]\n",
    "        \n",
    "    return theta, J, interact, residual, gradient"
   ]
  },
  {
   "cell_type": "code",
   "execution_count": 206,
   "metadata": {},
   "outputs": [
    {
     "name": "stdout",
     "output_type": "stream",
     "text": [
      "Initial cost\n",
      "0.681291555143\n",
      "Initial Gradient\n",
      "[ -6.67793403e-03   8.12568222e-08  -4.50150933e-07  -6.29245583e-10\n",
      "   1.81721521e-06   1.05118342e-06  -1.26892769e-07  -1.56963099e-07\n",
      "  -1.36211579e-06   1.08716302e-06   8.76760059e-09  -2.27969878e-06\n",
      "   3.90515046e-07   1.81771148e-07   4.96013112e-07   5.86466148e-07\n",
      "  -5.10433444e-07  -1.85348382e-06   7.75806602e-07   3.01099494e-07\n",
      "  -1.09336175e-06   1.91240406e-07  -1.43593393e-06  -5.01865646e-08\n",
      "  -1.39789288e-06   6.72384371e-07   3.39052775e-07  -1.45569672e-06]\n"
     ]
    }
   ],
   "source": [
    "op_theta, cost, it, r, grad = gradient_descent(maped, y, theta, 1, 6000)\n",
    "print('Initial cost')\n",
    "print(cost[0])\n",
    "\n",
    "print('Initial Gradient')\n",
    "print(grad)"
   ]
  },
  {
   "cell_type": "markdown",
   "metadata": {},
   "source": [
    "### Plotting the decision boundary"
   ]
  },
  {
   "cell_type": "code",
   "execution_count": 214,
   "metadata": {},
   "outputs": [
    {
     "name": "stdout",
     "output_type": "stream",
     "text": [
      "Iteraction reached : 1431\n",
      "Theta : [  1.57594335e+00   9.41108656e-01   1.64783497e+00  -2.54344693e+00\n",
      "  -1.48129427e+00  -1.93038291e+00   2.76214380e-01  -5.72993528e-01\n",
      "  -4.90126247e-01  -1.92257234e-01  -1.94876842e+00  -1.28330669e-02\n",
      "  -8.94156964e-01  -4.62955039e-01  -1.60809239e+00  -3.02802028e-01\n",
      "  -2.97340035e-01   1.25051476e-03  -4.40004019e-01  -4.71466655e-01\n",
      "  -4.92123091e-01  -1.43159326e+00   8.73209029e-02  -4.19777123e-01\n",
      "   5.77308801e-02  -4.93557856e-01  -2.66040224e-01  -1.15397517e+00]\n"
     ]
    }
   ],
   "source": [
    "guess = np.zeros(maped.shape[1])\n",
    "(opt_theta, j, i, r, g) = gradient_descent(maped, y, guess, 1, 6000)\n",
    "\n",
    "print('Iteraction reached : ' + str(i))\n",
    "print('Theta : ' + str(t))"
   ]
  },
  {
   "cell_type": "code",
   "execution_count": 236,
   "metadata": {},
   "outputs": [
    {
     "data": {
      "image/png": "[encoded data removed]",
      "text/plain": [
       "<matplotlib.figure.Figure at 0x7efdbce58e10>"
      ]
     },
     "metadata": {},
     "output_type": "display_data"
    }
   ],
   "source": [
    "accepted = data[(data[:,2]==1)]\n",
    "rejected = data[(data[:,2]==0)]\n",
    "    \n",
    "plt.close('all')\n",
    "\n",
    "fig, ax = plt.subplots(figsize=(12,8))  \n",
    "ax.scatter(accepted[:, 0], accepted[:,1], s=50, c='black', marker='x', label='Accepted')  \n",
    "ax.scatter(rejected[:, 0], rejected[:,1], s=50, c='yellow', marker='o', label='Rejected')  \n",
    "    \n",
    "''' contour '''\n",
    "u = np.linspace(-1, 1.5, 50)\n",
    "v = np.linspace(-1, 1.5, 50)\n",
    "z = np.zeros(shape=(len(u), len(v)))\n",
    "    \n",
    "for i in range(len(u)):\n",
    "    for j in range(len(v)):\n",
    "        a = np.array([[u[i]]])\n",
    "        b = np.array([[v[j]]])\n",
    "        maped = map_feature(a, b)\n",
    "            \n",
    "        z[i, j] = maped.dot(opt_theta)[0]\n",
    "    \n",
    "cs = plt.contour(u, v, z.T, [0], label=\"Boundary\")\n",
    "plt.clabel(cs, inline=1, fontsize=10)\n",
    "\n",
    "plt.title('Decision boundary for lambda = ' + str(1), fontsize=13)\n",
    "\n",
    "''' legend '''\n",
    "ax.legend()  \n",
    "ax.set_xlabel('Microchip Test 1')  \n",
    "ax.set_ylabel('Microchip Test 2')\n",
    "\n",
    "plt.show()"
   ]
  },
  {
   "cell_type": "code",
   "execution_count": 224,
   "metadata": {},
   "outputs": [
    {
     "name": "stdout",
     "output_type": "stream",
     "text": [
      "Shape of maped X:  (118, 28)\n",
      "Shape of guess:  (28,)\n",
      "Shape of y:  (118,)\n"
     ]
    },
    {
     "data": {
      "text/plain": [
       "'\\n    optimize.fmin_bfgs(cost_function, guess, args=extraArgs, fprime=gradient_descent, maxiter=400)\\n'"
      ]
     },
     "execution_count": 224,
     "metadata": {},
     "output_type": "execute_result"
    }
   ],
   "source": [
    "'''\n",
    "    Parameters to input for fmin_bfgs\n",
    "        f(x, *args) : is our cost function\n",
    "        x0: is our initial guess (theta of zeros)\n",
    "        fPrime: is our gradient of f\n",
    "        args: extra parameters for f and fPrime\n",
    "'''\n",
    "\n",
    "x = data[:, :2]\n",
    "x1 = x[:, [0]]\n",
    "x2 = x[:, [1]]\n",
    "X = map_feature(x1, x2)\n",
    "print('Shape of maped X: ', X.shape)\n",
    "\n",
    "\n",
    "print('Shape of guess: ', guess.shape)\n",
    "\n",
    "y = data[:, 2]\n",
    "print('Shape of y: ', y.shape)\n",
    "\n",
    "extraArgs = (X, y)\n",
    "\n",
    "'''\n",
    "    optimize.fmin_bfgs(cost_function, guess, args=extraArgs, fprime=gradient_descent, maxiter=400)\n",
    "'''"
   ]
  },
  {
   "cell_type": "code",
   "execution_count": null,
   "metadata": {
    "collapsed": true
   },
   "outputs": [],
   "source": []
  }
 ],
 "metadata": {
  "kernelspec": {
   "display_name": "Python 3",
   "language": "python",
   "name": "python3"
  },
  "language_info": {
   "codemirror_mode": {
    "name": "ipython",
    "version": 3
   },
   "file_extension": ".py",
   "mimetype": "text/x-python",
   "name": "python",
   "nbconvert_exporter": "python",
   "pygments_lexer": "ipython3",
   "version": "3.6.1"
  }
 },
 "nbformat": 4,
 "nbformat_minor": 2
}
