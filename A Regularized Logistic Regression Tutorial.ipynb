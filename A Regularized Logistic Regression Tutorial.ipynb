{
 "cells": [
  {
   "cell_type": "markdown",
   "metadata": {},
   "source": [
    "# A Python Regularized Logistic Regression Tutorial"
   ]
  },
  {
   "cell_type": "markdown",
   "metadata": {},
   "source": [
    "Regressão Logística é um modelo de regressão que relaciona *reponse variable* com um conjunto de *explanatory variables*, representando a probabilidade de ocorrência de uma *response variable* em termos de uma função de *explanatory variables*.\n",
    "\n",
    "\"regularization can address overfitting or underfitting.\"\n",
    "\n",
    "** Optimization and cross validation:** [Add basic information]\n",
    "\n",
    "**Explanatory variables:** são variáveis parcialmente independentes no estudos sobre a ocorrência de um determinado evento, ou seja, a associação entre as varáveis apoiam ou fornecem uma explicação para a ocorrência de um evento."
   ]
  },
  {
   "cell_type": "markdown",
   "metadata": {},
   "source": [
    "## Importing"
   ]
  },
  {
   "cell_type": "code",
   "execution_count": 108,
   "metadata": {},
   "outputs": [],
   "source": [
    "import numpy as np\n",
    "import matplotlib as mp\n",
    "import matplotlib.pyplot as plt\n",
    "from scipy import optimize\n",
    "from scipy.optimize import minimize\n",
    "from mpl_toolkits.mplot3d import Axes3D"
   ]
  },
  {
   "cell_type": "markdown",
   "metadata": {},
   "source": [
    "## Loading data"
   ]
  },
  {
   "cell_type": "code",
   "execution_count": 109,
   "metadata": {
    "collapsed": true
   },
   "outputs": [],
   "source": [
    "data = np.genfromtxt('ex2data2.txt', delimiter=',')\n",
    "\n",
    "accepted = data[(data[:,2]==1)]\n",
    "rejected = data[(data[:,2]==0)]\n",
    "\n",
    "theta = np.array([0., 0., 0.])"
   ]
  },
  {
   "cell_type": "markdown",
   "metadata": {},
   "source": [
    "## Data Visualization\n",
    "\n",
    "Para o conjunto de dados em estudo, é possível criar um gráfico para visualizar seus pontos.\n",
    "\n",
    "A imagem abaixo nos permite entender a distribuição dos resultados dos testes em relação aos microchips que foram aprovados e rejeitados.\n",
    "\n",
    "A partir do resultado obtido, é possível observar que os dados não possuem uma distribuição linearmente separável."
   ]
  },
  {
   "cell_type": "code",
   "execution_count": 110,
   "metadata": {},
   "outputs": [
    {
     "data": {
      "image/png": "[encoded data removed]",
      "text/plain": [
       "<matplotlib.figure.Figure at 0x7f6e598aa198>"
      ]
     },
     "metadata": {},
     "output_type": "display_data"
    }
   ],
   "source": [
    "plt.close('all')\n",
    "\n",
    "fig, ax = plt.subplots(figsize=(12,8))  \n",
    "ax.scatter(accepted[:, 0], accepted[:,1], s=50, c='black', marker='x', label='Accepted')  \n",
    "ax.scatter(rejected[:, 0], rejected[:,1], s=50, c='yellow', marker='o', label='Rejected')  \n",
    "\n",
    "ax.legend()  \n",
    "ax.set_xlabel('Microchip Test 1')  \n",
    "ax.set_ylabel('Microchip Test 2')\n",
    "\n",
    "plt.show()"
   ]
  },
  {
   "cell_type": "markdown",
   "metadata": {},
   "source": [
    "## Feature mapping\n",
    "\n",
    "Uma vez que a Regresão Logística não é um método sofisticado para trabalhar com problemas não-lineares, é necessário criar novas *features* a partir das existentes de modo que seja possível especular a melhor fronteira de decisão obtida a partir das associações entre as duas *features* originais."
   ]
  },
  {
   "cell_type": "code",
   "execution_count": 111,
   "metadata": {
    "collapsed": true
   },
   "outputs": [],
   "source": [
    "\"\"\"\n",
    "    This function returns a new feature array given two features and a degree\n",
    "    x1 and x2 must be arrays with same size\n",
    "\"\"\"\n",
    "def map_feature(x1, x2, degree=6):\n",
    "    map_feature_size = x1.size\n",
    "    map_feature = np.ones(shape=(map_feature_size, 1))\n",
    "    \n",
    "    for i in range(1, degree + 1):\n",
    "        for j in range(i + 1):\n",
    "            \"\"\" Append values to the end of an array \"\"\"\n",
    "            column = (x1 ** (i - j)) * (x2 ** j)\n",
    "            map_feature = np.append(map_feature, column, axis=1)\n",
    "        \n",
    "    return map_feature"
   ]
  },
  {
   "cell_type": "code",
   "execution_count": 112,
   "metadata": {},
   "outputs": [
    {
     "name": "stdout",
     "output_type": "stream",
     "text": [
      "(118, 28)\n"
     ]
    }
   ],
   "source": [
    "x = data[:, :2]\n",
    "\n",
    "x1 = x[:, [0]]\n",
    "x2 = x[:, [1]]\n",
    "\n",
    "maped = map_feature(x1, x2)\n",
    "print(maped.shape)"
   ]
  },
  {
   "cell_type": "markdown",
   "metadata": {
    "collapsed": true
   },
   "source": [
    "### Cost function"
   ]
  },
  {
   "cell_type": "code",
   "execution_count": 113,
   "metadata": {
    "collapsed": true
   },
   "outputs": [],
   "source": [
    "def sigmoid_function(z):  \n",
    "    return 1 / (1 + np.exp(-z))"
   ]
  },
  {
   "cell_type": "code",
   "execution_count": 114,
   "metadata": {
    "collapsed": true
   },
   "outputs": [],
   "source": [
    "def cost_function(theta, x, y, pLambda = 1.):  \n",
    "    \n",
    "    m = len(x)\n",
    "    zero = 0.000001\n",
    "    \n",
    "    ''' Construct the hypothesis and avoid absolute zeros '''\n",
    "    param = (x.dot(theta))\n",
    "    hyphotesis = sigmoid_function(param)\n",
    "    hyphotesis[hyphotesis == 0] = zero\n",
    "    \n",
    "    ''' Also, compute the interval and avoid absolute zeros '''\n",
    "    interval = 1 - hyphotesis\n",
    "    interval[interval == 0] = zero\n",
    "    \n",
    "    y1 = y * np.log(hyphotesis)\n",
    "    y0 = (1 - y) * np.log(interval)\n",
    "    y2 = theta**2\n",
    "    \n",
    "    cost     = ((-1./m) * np.sum(y1 + y0)) + ((pLambda/(2*m)) * np.sum(y2))\n",
    "    \n",
    "    return cost"
   ]
  },
  {
   "cell_type": "markdown",
   "metadata": {},
   "source": [
    "Podemos testar a Função de Custo para um conjunto theta de zeros"
   ]
  },
  {
   "cell_type": "code",
   "execution_count": 115,
   "metadata": {},
   "outputs": [
    {
     "name": "stdout",
     "output_type": "stream",
     "text": [
      "Theta shape must be: 28 columns and 1 row\n",
      "(28,)\n",
      "Cost function output: \n",
      "0.69314718056\n"
     ]
    }
   ],
   "source": [
    "\"\"\" \n",
    "    We already have the mapped features : maped \n",
    "    So, we can use it as X input\n",
    "    \n",
    "    We need to input an array of thetas with the same shape of\n",
    "    the mapped array\n",
    "\"\"\"\n",
    "theta = np.zeros(maped.shape[1])\n",
    "y = data[:, 2]\n",
    "\n",
    "print('Theta shape must be: 28 columns and 1 row')\n",
    "print(theta.shape)\n",
    "\n",
    "cost = cost_function(theta, maped, y, pLambda = 1.)\n",
    "print('Cost function output: ')\n",
    "print(cost)"
   ]
  },
  {
   "cell_type": "markdown",
   "metadata": {},
   "source": [
    "### Gradient Descent"
   ]
  },
  {
   "cell_type": "code",
   "execution_count": 116,
   "metadata": {
    "collapsed": true
   },
   "outputs": [],
   "source": [
    "def gradient_descent(x, y, theta, pLambda, tolerance, log=False):\n",
    "    m = y.size\n",
    "    episilon = 0.000001\n",
    "    zero     = 0.000001\n",
    "    residual = np.ones(tolerance)\n",
    "    J        = np.zeros(tolerance)\n",
    "    interact = 0\n",
    "    converge = False\n",
    "    \n",
    "    while not converge:\n",
    "        \n",
    "        ' Start adjusting theta values '\n",
    "        hypothesis = sigmoid_function(x.dot(theta))\n",
    "        error = hypothesis - y\n",
    "        \n",
    "        error[error == 0] = zero\n",
    "        \n",
    "        gradient = ((1./m) * (x.T.dot(error))) + ((pLambda/(2*m)) * theta)\n",
    "        \n",
    "        tmpTheta = theta\n",
    "        theta = theta - gradient\n",
    "        \n",
    "        ' Run the cost function over the data with new theta '\n",
    "        J[interact] = cost_function(theta, x, y, pLambda)\n",
    "        \n",
    "        step = abs(np.linalg.norm(theta) - np.linalg.norm(tmpTheta))        \n",
    "        converge = (step <= episilon)\n",
    "        \n",
    "        residual[interact] = step\n",
    "        \n",
    "        if interact % 100 == 0 and log:\n",
    "            ' The main idea here is to minimize the error value when evaluating the hypothesis '\n",
    "            print('Interaction ' + str(interact) + ', Redidual error output :' + str(J[interact]) + ', Step size: ' + str(step))\n",
    "        \n",
    "        if (interact + 1) == tolerance:\n",
    "            print('Caution! The routine has reached the maximum tolerance! Results may not converge.')\n",
    "            converge = True\n",
    "            \n",
    "        interact = interact + 1\n",
    "    \n",
    "    '''\n",
    "        For j = 0 whe do not sum the last term\n",
    "    '''\n",
    "    gradient[0] = gradient[0] - ((pLambda/(2*m)) * theta)[0]\n",
    "        \n",
    "    return theta, J, interact, residual, gradient"
   ]
  },
  {
   "cell_type": "code",
   "execution_count": 117,
   "metadata": {},
   "outputs": [
    {
     "name": "stdout",
     "output_type": "stream",
     "text": [
      "Initial cost\n",
      "0.681291555143\n",
      "Initial Gradient\n",
      "[ -6.67793403e-03   8.12568222e-08  -4.50150933e-07  -6.29245583e-10\n",
      "   1.81721521e-06   1.05118342e-06  -1.26892769e-07  -1.56963099e-07\n",
      "  -1.36211579e-06   1.08716302e-06   8.76760059e-09  -2.27969878e-06\n",
      "   3.90515046e-07   1.81771148e-07   4.96013112e-07   5.86466148e-07\n",
      "  -5.10433444e-07  -1.85348382e-06   7.75806602e-07   3.01099494e-07\n",
      "  -1.09336175e-06   1.91240406e-07  -1.43593393e-06  -5.01865646e-08\n",
      "  -1.39789288e-06   6.72384371e-07   3.39052775e-07  -1.45569672e-06]\n"
     ]
    }
   ],
   "source": [
    "op_theta, cost, it, r, grad = gradient_descent(maped, y, theta, 1, 6000)\n",
    "print('Initial cost')\n",
    "print(cost[0])\n",
    "\n",
    "print('Initial Gradient')\n",
    "print(grad)"
   ]
  },
  {
   "cell_type": "markdown",
   "metadata": {},
   "source": [
    "### Plotting the decision boundary"
   ]
  },
  {
   "cell_type": "code",
   "execution_count": 118,
   "metadata": {},
   "outputs": [
    {
     "name": "stdout",
     "output_type": "stream",
     "text": [
      "Iteraction reached : 1431\n",
      "Theta : [  1.57594335e+00   9.41108656e-01   1.64783497e+00  -2.54344693e+00\n",
      "  -1.48129427e+00  -1.93038291e+00   2.76214380e-01  -5.72993528e-01\n",
      "  -4.90126247e-01  -1.92257234e-01  -1.94876842e+00  -1.28330669e-02\n",
      "  -8.94156964e-01  -4.62955039e-01  -1.60809239e+00  -3.02802028e-01\n",
      "  -2.97340035e-01   1.25051476e-03  -4.40004019e-01  -4.71466655e-01\n",
      "  -4.92123091e-01  -1.43159326e+00   8.73209029e-02  -4.19777123e-01\n",
      "   5.77308801e-02  -4.93557856e-01  -2.66040224e-01  -1.15397517e+00]\n"
     ]
    }
   ],
   "source": [
    "guess = np.zeros(maped.shape[1])\n",
    "(opt_theta, j, i, r, g) = gradient_descent(maped, y, guess, 1, 6000)\n",
    "\n",
    "print('Iteraction reached : ' + str(i))\n",
    "print('Theta : ' + str(opt_theta))"
   ]
  },
  {
   "cell_type": "code",
   "execution_count": 119,
   "metadata": {},
   "outputs": [
    {
     "data": {
      "image/png": "[encoded data removed]",
      "text/plain": [
       "<matplotlib.figure.Figure at 0x7f6e5959eb70>"
      ]
     },
     "metadata": {},
     "output_type": "display_data"
    }
   ],
   "source": [
    "accepted = data[(data[:,2]==1)]\n",
    "rejected = data[(data[:,2]==0)]\n",
    "    \n",
    "plt.close('all')\n",
    "\n",
    "fig, ax = plt.subplots(figsize=(12,8))  \n",
    "ax.scatter(accepted[:, 0], accepted[:,1], s=50, c='black', marker='x', label='Accepted')  \n",
    "ax.scatter(rejected[:, 0], rejected[:,1], s=50, c='yellow', marker='o', label='Rejected')  \n",
    "    \n",
    "''' contour '''\n",
    "u = np.linspace(-1, 1.5, 50)\n",
    "v = np.linspace(-1, 1.5, 50)\n",
    "z = np.zeros(shape=(len(u), len(v)))\n",
    "    \n",
    "for i in range(len(u)):\n",
    "    for j in range(len(v)):\n",
    "        a = np.array([[u[i]]])\n",
    "        b = np.array([[v[j]]])\n",
    "        maped = map_feature(a, b)\n",
    "            \n",
    "        z[i, j] = maped.dot(opt_theta)[0]\n",
    "    \n",
    "cs = plt.contour(u, v, z.T, [0], label=\"Boundary\")\n",
    "plt.clabel(cs, inline=1, fontsize=10, fmt='Decision Boundary')\n",
    "\n",
    "plt.title('Decision boundary for lambda = ' + str(1), fontsize=13)\n",
    "\n",
    "''' legend '''\n",
    "ax.legend()  \n",
    "ax.set_xlabel('Microchip Test 1')  \n",
    "ax.set_ylabel('Microchip Test 2')\n",
    "\n",
    "plt.show()"
   ]
  },
  {
   "cell_type": "markdown",
   "metadata": {},
   "source": [
    "## Regularized Linear Regression and Bias vs. Variance"
   ]
  },
  {
   "cell_type": "markdown",
   "metadata": {},
   "source": [
    "O conjunto de dados do exemplo está no formato.mat, devemos carregar os dados com auxílio de bibliotecas externas."
   ]
  },
  {
   "cell_type": "code",
   "execution_count": 134,
   "metadata": {},
   "outputs": [
    {
     "name": "stdout",
     "output_type": "stream",
     "text": [
      "12\n"
     ]
    }
   ],
   "source": [
    "import scipy\n",
    "import scipy.io as spio\n",
    "\n",
    "mat = scipy.io.loadmat('ex5data1.mat')\n",
    "\n",
    "'''\n",
    "    Load matrix data using X and y labels as recommended by the\n",
    "    exercise\n",
    "'''\n",
    "\n",
    "x = mat[\"X\"]\n",
    "y = mat[\"y\"]\n",
    "\n",
    "m = x.shape[0]\n",
    "\n",
    "print(m)"
   ]
  },
  {
   "cell_type": "markdown",
   "metadata": {},
   "source": [
    "### Visualizing Data"
   ]
  },
  {
   "cell_type": "code",
   "execution_count": 135,
   "metadata": {},
   "outputs": [
    {
     "data": {
      "image/png": "[encoded data removed]",
      "text/plain": [
       "<matplotlib.figure.Figure at 0x7f6e59227be0>"
      ]
     },
     "metadata": {},
     "output_type": "display_data"
    }
   ],
   "source": [
    "plt.close('all')\n",
    "\n",
    "plt.subplots(figsize=(12,8)) \n",
    "\n",
    "plt.plot(x, y, 'rx', markersize=10, linewidth=1.5)\n",
    "plt.xlabel('Change in water level (x)')\n",
    "plt.ylabel('Water flowing out of the dam (y)')\n",
    "\n",
    "plt.show(block=False) "
   ]
  },
  {
   "cell_type": "markdown",
   "metadata": {},
   "source": [
    "### Regularized Linear Regression Cost"
   ]
  },
  {
   "cell_type": "code",
   "execution_count": 136,
   "metadata": {
    "collapsed": true
   },
   "outputs": [],
   "source": [
    "def cost_function(x, y, theta, pLambda=1.):\n",
    "    m = y.size\n",
    "    \n",
    "    regression = x.dot(theta)\n",
    "    \n",
    "    regressionError =  np.sum((regression - y)**2)\n",
    "    regularizedTerm =  np.sum(theta**2)\n",
    "    \n",
    "    cost = ((1./(2*m)) * regressionError) + ((pLambda/(2*m)) * regularizedTerm)   \n",
    "    \n",
    "    return cost - ((pLambda/(2*m)) * (theta**2)[0])"
   ]
  },
  {
   "cell_type": "code",
   "execution_count": 137,
   "metadata": {},
   "outputs": [
    {
     "name": "stdout",
     "output_type": "stream",
     "text": [
      "303.99319222\n",
      "(12, 2) (12,) (2,)\n"
     ]
    }
   ],
   "source": [
    "x = mat[\"X\"]\n",
    "y = mat[\"y\"]\n",
    "\n",
    "x = x[:, [0]]\n",
    "y = y[:, 0]\n",
    "\n",
    "x = np.insert(x, 0, np.ones(x.shape[0]), axis=1)\n",
    "\n",
    "theta = np.ones(shape=(x.shape[1]))\n",
    "\n",
    "print(cost_function(x, y, theta))\n",
    "print(x.shape, y.shape, theta.shape)"
   ]
  },
  {
   "cell_type": "markdown",
   "metadata": {},
   "source": [
    "### Gradient Descent"
   ]
  },
  {
   "cell_type": "code",
   "execution_count": 138,
   "metadata": {},
   "outputs": [],
   "source": [
    "def gradient_descent(x, y, theta, pLambda=1.):\n",
    "    J = 0\n",
    "    grad = np.zeros(theta.shape)\n",
    "\n",
    "    J = cost_function(x, y, theta)\n",
    "    error = np.dot(x.T, np.dot(x,theta) - y)\n",
    "    grad  = ((1./m) * error) + ((pLambda/m) * theta)\n",
    "\n",
    "    grad_no_regularization = (1./m) * error\n",
    "    grad[0] = grad_no_regularization[0]\n",
    "\n",
    "    return J, grad.flatten() "
   ]
  },
  {
   "cell_type": "code",
   "execution_count": 139,
   "metadata": {},
   "outputs": [
    {
     "name": "stdout",
     "output_type": "stream",
     "text": [
      "(12, 2) (12,) (2,)\n",
      "Cost is: 303.99319222\n",
      "Gradient is:  [ -15.30301567  598.25074417]\n"
     ]
    }
   ],
   "source": [
    "print(x.shape, y.shape, theta.shape)\n",
    "(J, g) = gradient_descent(x, y, theta)\n",
    "\n",
    "print('Cost is:', J)\n",
    "print('Gradient is: ', g)"
   ]
  },
  {
   "cell_type": "markdown",
   "metadata": {},
   "source": [
    "### Train Linear Regression"
   ]
  },
  {
   "cell_type": "code",
   "execution_count": 141,
   "metadata": {
    "collapsed": true
   },
   "outputs": [],
   "source": [
    "def compute_lambda(x, y, pLambda):\n",
    "    initial_theta = np.zeros(shape=(x.shape[1]))\n",
    "\n",
    "    def short_hand_cost(theta):\n",
    "        return gradient_descent(x, y, theta, pLambda)\n",
    "\n",
    "    maxiter = 200\n",
    "    results = minimize(short_hand_cost, x0=initial_theta, options={'disp': True, 'maxiter':maxiter}, method=\"L-BFGS-B\", jac=True)\n",
    "\n",
    "    theta = results[\"x\"]\n",
    "\n",
    "    return theta"
   ]
  },
  {
   "cell_type": "code",
   "execution_count": 171,
   "metadata": {},
   "outputs": [],
   "source": [
    "pLambda = 0\n",
    "\n",
    "'''\n",
    "    Recovering parameters\n",
    "'''\n",
    "\n",
    "x = mat[\"X\"]\n",
    "y = mat[\"y\"]\n",
    "\n",
    "x = x[:, [0]]\n",
    "y = y[:, 0]\n",
    "\n",
    "x = np.insert(x, 0, np.ones(x.shape[0]), axis=1)\n",
    "\n",
    "theta = np.ones(shape=(x.shape[1]))\n",
    "\n",
    "error_train, error_val = compute_lambda(x, y, pLambda)"
   ]
  },
  {
   "cell_type": "code",
   "execution_count": 172,
   "metadata": {},
   "outputs": [
    {
     "name": "stderr",
     "output_type": "stream",
     "text": [
      "/home/angellica/anaconda3/lib/python3.6/site-packages/ipykernel_launcher.py:12: MatplotlibDeprecationWarning: pyplot.hold is deprecated.\n",
      "    Future behavior will be consistent with the long-time default:\n",
      "    plot commands add elements without first clearing the\n",
      "    Axes and/or Figure.\n",
      "  if sys.path[0] == '':\n",
      "/home/angellica/anaconda3/lib/python3.6/site-packages/matplotlib/__init__.py:917: UserWarning: axes.hold is deprecated. Please remove it from your matplotlibrc and/or style files.\n",
      "  warnings.warn(self.msg_depr_set % key)\n",
      "/home/angellica/anaconda3/lib/python3.6/site-packages/matplotlib/rcsetup.py:152: UserWarning: axes.hold is deprecated, will be removed in 3.0\n",
      "  warnings.warn(\"axes.hold is deprecated, will be removed in 3.0\")\n"
     ]
    },
    {
     "data": {
      "image/png": "[encoded data removed]",
      "text/plain": [
       "<matplotlib.figure.Figure at 0x7f6e5980d390>"
      ]
     },
     "metadata": {},
     "output_type": "display_data"
    },
    {
     "name": "stderr",
     "output_type": "stream",
     "text": [
      "/home/angellica/anaconda3/lib/python3.6/site-packages/ipykernel_launcher.py:16: MatplotlibDeprecationWarning: pyplot.hold is deprecated.\n",
      "    Future behavior will be consistent with the long-time default:\n",
      "    plot commands add elements without first clearing the\n",
      "    Axes and/or Figure.\n",
      "  app.launch_new_instance()\n"
     ]
    }
   ],
   "source": [
    "x = mat[\"X\"]\n",
    "x = x[:, [0]]\n",
    "m = x.shape[0]\n",
    "\n",
    "plt.close()\n",
    "\n",
    "plt.subplots(figsize=(12,8)) \n",
    "\n",
    "plt.plot(x, y, 'rx', markersize=10, linewidth=1.5)\n",
    "plt.xlabel('Change in water level (x)')\n",
    "plt.ylabel('Water flowing out of the dam (y)')\n",
    "plt.hold(True)\n",
    "plt.plot(x, np.dot(np.column_stack((np.ones(shape=(m)), x)), theta), '--', linewidth=2)\n",
    "plt.show(block=False)\n",
    "\n",
    "plt.hold(False)"
   ]
  },
  {
   "cell_type": "markdown",
   "metadata": {},
   "source": [
    "### Learning Curve for Linear Regression"
   ]
  },
  {
   "cell_type": "code",
   "execution_count": 177,
   "metadata": {
    "collapsed": true
   },
   "outputs": [],
   "source": [
    "def cross_validation(x, y, xval, yval, lambda_val):\n",
    "    m = len(x)\n",
    "\n",
    "    error_train = np.zeros((m, 1))\n",
    "    error_val   = np.zeros((m, 1))\n",
    "\n",
    "    for i in range(1,m+1):\n",
    "\n",
    "        x_train = X[:i]\n",
    "        y_train = y[:i]\n",
    "\n",
    "        theta = compute_lambda(x_train, y_train, lambda_val)\n",
    "        \n",
    "        (J, g) = gradient_descent(x_train, y_train, theta, 0)\n",
    "        error_train[i-1] = J\n",
    "        (J, g) = gradient_descent(xval, yval, theta, 0)\n",
    "        error_val[i-1]   = J\n",
    "                \n",
    "    return error_train, error_val"
   ]
  },
  {
   "cell_type": "code",
   "execution_count": 178,
   "metadata": {},
   "outputs": [
    {
     "data": {
      "image/png": "[encoded data removed]",
      "text/plain": [
       "<matplotlib.figure.Figure at 0x7f6e59815278>"
      ]
     },
     "metadata": {},
     "output_type": "display_data"
    },
    {
     "data": {
      "text/plain": [
       "[0, 13, 0, 150]"
      ]
     },
     "execution_count": 178,
     "metadata": {},
     "output_type": "execute_result"
    }
   ],
   "source": [
    "pLambda = 0\n",
    "x = mat[\"X\"]\n",
    "y = mat[\"y\"]\n",
    "\n",
    "x = x[:, [0]]\n",
    "y = y[:, 0]\n",
    "\n",
    "xval = mat[\"Xval\"]\n",
    "yval = mat[\"yval\"]\n",
    "xtest = mat[\"Xtest\"]\n",
    "ytest = mat[\"ytest\"]\n",
    "\n",
    "m = x.shape[0]\n",
    "\n",
    "theta = np.ones(shape=(x.shape[1]))\n",
    "\n",
    "error_train, error_val = cross_validation(x, y, xval, yval, pLambda)\n",
    "\n",
    "plt.close()\n",
    "\n",
    "p1, p2 = plt.plot(range(m), error_train, range(m), error_val)\n",
    "plt.title('Learning curve for linear regression')\n",
    "plt.legend((p1, p2), ('Train', 'Cross Validation'), numpoints=1, handlelength=0.5)\n",
    "plt.xlabel('Number of training examples')\n",
    "plt.ylabel('Error')\n",
    "plt.show(block=False)\n",
    "plt.axis([0, 13, 0, 150])"
   ]
  },
  {
   "cell_type": "markdown",
   "metadata": {},
   "source": [
    "##  Polynomial Regression"
   ]
  },
  {
   "cell_type": "code",
   "execution_count": 200,
   "metadata": {
    "collapsed": true
   },
   "outputs": [],
   "source": [
    "def map_polynomial(X, p):\n",
    "    X_poly = X\n",
    "\n",
    "    if p >= 2:\n",
    "        for k in range(1,p):\n",
    "            X_poly = np.column_stack((X_poly, np.power(X,k+1)))\n",
    "            \n",
    "    return X_poly"
   ]
  },
  {
   "cell_type": "code",
   "execution_count": 201,
   "metadata": {
    "collapsed": true
   },
   "outputs": [],
   "source": [
    "def normalize(X):\n",
    "    mu = np.mean(X, axis=0)\n",
    "    X_norm = X - mu\n",
    "\n",
    "    sigma = np.std(X_norm, axis=0)\n",
    "    X_norm = X_norm/sigma\n",
    "\n",
    "    return X_norm, mu, sigma"
   ]
  },
  {
   "cell_type": "code",
   "execution_count": 206,
   "metadata": {},
   "outputs": [
    {
     "name": "stdout",
     "output_type": "stream",
     "text": [
      "Normalized Training Example:\n",
      "[ 1.         -0.8389201   0.0013142  -0.25896174 -0.34156482  0.09754927\n",
      " -0.45519664  0.26677343 -0.46887381]\n"
     ]
    }
   ],
   "source": [
    "X = mat[\"X\"]\n",
    "y = mat[\"y\"]\n",
    "Xval = mat[\"Xval\"]\n",
    "yval = mat[\"yval\"]\n",
    "Xtest = mat[\"Xtest\"]\n",
    "ytest = mat[\"ytest\"]\n",
    "\n",
    "m = X.shape[0]\n",
    "\n",
    "p = 8;\n",
    "\n",
    "X_poly = map_polynomial(X, p)\n",
    "X_poly, mu, sigma = normalize(X_poly)  # Normalize\n",
    "X_poly = np.column_stack((np.ones((m,1)), X_poly)) # Add Ones\n",
    "\n",
    "X_poly_test = map_polynomial(Xtest, p)\n",
    "X_poly_test = X_poly_test - mu\n",
    "X_poly_test = X_poly_test / sigma\n",
    "X_poly_test = np.column_stack((np.ones((X_poly_test.shape[0],1)), X_poly_test)) # Add Ones\n",
    "\n",
    "X_poly_val = map_polynomial(Xval, p)\n",
    "X_poly_val = X_poly_val - mu\n",
    "X_poly_val = X_poly_val / sigma\n",
    "X_poly_val = np.column_stack((np.ones((X_poly_val.shape[0],1)), X_poly_val)) # Add Ones\n",
    "\n",
    "print('Normalized Training Example:')\n",
    "print(X_poly[1, :])"
   ]
  },
  {
   "cell_type": "markdown",
   "metadata": {},
   "source": [
    "### Learning Curve for Polynomial Regression"
   ]
  },
  {
   "cell_type": "code",
   "execution_count": 207,
   "metadata": {
    "collapsed": true
   },
   "outputs": [],
   "source": [
    "def plot(min_x, max_x, mu, sigma, theta, p):\n",
    "    plt.hold(True)\n",
    "\n",
    "    x = np.array(np.arange(min_x - 15, max_x + 25, 0.05))\n",
    "\n",
    "    X_poly = map_polynomial(x, p)\n",
    "    X_poly = X_poly - mu\n",
    "    X_poly = X_poly/sigma\n",
    "\n",
    "    X_poly = np.column_stack((np.ones((x.shape[0],1)), X_poly))\n",
    "\n",
    "    plt.plot(x, np.dot(X_poly, theta), '--', linewidth=2)\n",
    "\n",
    "    plt.hold(False)"
   ]
  },
  {
   "cell_type": "code",
   "execution_count": 210,
   "metadata": {},
   "outputs": [
    {
     "ename": "error",
     "evalue": "failed in converting 7th argument `g' of _lbfgsb.setulb to C/Fortran array",
     "output_type": "error",
     "traceback": [
      "\u001b[0;31m---------------------------------------------------------------------------\u001b[0m",
      "\u001b[0;31merror\u001b[0m                                     Traceback (most recent call last)",
      "\u001b[0;32m<ipython-input-210-b4036370f69b>\u001b[0m in \u001b[0;36m<module>\u001b[0;34m()\u001b[0m\n\u001b[1;32m      1\u001b[0m \u001b[0mlambda_val\u001b[0m \u001b[0;34m=\u001b[0m \u001b[0;36m1\u001b[0m\u001b[0;34m;\u001b[0m\u001b[0;34m\u001b[0m\u001b[0m\n\u001b[0;32m----> 2\u001b[0;31m \u001b[0mtheta\u001b[0m \u001b[0;34m=\u001b[0m \u001b[0mcompute_lambda\u001b[0m\u001b[0;34m(\u001b[0m\u001b[0mX_poly\u001b[0m\u001b[0;34m,\u001b[0m \u001b[0my\u001b[0m\u001b[0;34m,\u001b[0m \u001b[0mlambda_val\u001b[0m\u001b[0;34m)\u001b[0m\u001b[0;34m\u001b[0m\u001b[0m\n\u001b[0m\u001b[1;32m      3\u001b[0m \u001b[0;34m\u001b[0m\u001b[0m\n\u001b[1;32m      4\u001b[0m \u001b[0mplt\u001b[0m\u001b[0;34m.\u001b[0m\u001b[0mclose\u001b[0m\u001b[0;34m(\u001b[0m\u001b[0;34m)\u001b[0m\u001b[0;34m\u001b[0m\u001b[0m\n\u001b[1;32m      5\u001b[0m \u001b[0mplt\u001b[0m\u001b[0;34m.\u001b[0m\u001b[0mfigure\u001b[0m\u001b[0;34m(\u001b[0m\u001b[0;36m1\u001b[0m\u001b[0;34m)\u001b[0m\u001b[0;34m\u001b[0m\u001b[0m\n",
      "\u001b[0;32m<ipython-input-141-f3d4d363c0e0>\u001b[0m in \u001b[0;36mcompute_lambda\u001b[0;34m(x, y, pLambda)\u001b[0m\n\u001b[1;32m      6\u001b[0m \u001b[0;34m\u001b[0m\u001b[0m\n\u001b[1;32m      7\u001b[0m     \u001b[0mmaxiter\u001b[0m \u001b[0;34m=\u001b[0m \u001b[0;36m200\u001b[0m\u001b[0;34m\u001b[0m\u001b[0m\n\u001b[0;32m----> 8\u001b[0;31m     \u001b[0mresults\u001b[0m \u001b[0;34m=\u001b[0m \u001b[0mminimize\u001b[0m\u001b[0;34m(\u001b[0m\u001b[0mshort_hand_cost\u001b[0m\u001b[0;34m,\u001b[0m \u001b[0mx0\u001b[0m\u001b[0;34m=\u001b[0m\u001b[0minitial_theta\u001b[0m\u001b[0;34m,\u001b[0m \u001b[0moptions\u001b[0m\u001b[0;34m=\u001b[0m\u001b[0;34m{\u001b[0m\u001b[0;34m'disp'\u001b[0m\u001b[0;34m:\u001b[0m \u001b[0;32mTrue\u001b[0m\u001b[0;34m,\u001b[0m \u001b[0;34m'maxiter'\u001b[0m\u001b[0;34m:\u001b[0m\u001b[0mmaxiter\u001b[0m\u001b[0;34m}\u001b[0m\u001b[0;34m,\u001b[0m \u001b[0mmethod\u001b[0m\u001b[0;34m=\u001b[0m\u001b[0;34m\"L-BFGS-B\"\u001b[0m\u001b[0;34m,\u001b[0m \u001b[0mjac\u001b[0m\u001b[0;34m=\u001b[0m\u001b[0;32mTrue\u001b[0m\u001b[0;34m)\u001b[0m\u001b[0;34m\u001b[0m\u001b[0m\n\u001b[0m\u001b[1;32m      9\u001b[0m \u001b[0;34m\u001b[0m\u001b[0m\n\u001b[1;32m     10\u001b[0m     \u001b[0mtheta\u001b[0m \u001b[0;34m=\u001b[0m \u001b[0mresults\u001b[0m\u001b[0;34m[\u001b[0m\u001b[0;34m\"x\"\u001b[0m\u001b[0;34m]\u001b[0m\u001b[0;34m\u001b[0m\u001b[0m\n",
      "\u001b[0;32m/home/angellica/anaconda3/lib/python3.6/site-packages/scipy/optimize/_minimize.py\u001b[0m in \u001b[0;36mminimize\u001b[0;34m(fun, x0, args, method, jac, hess, hessp, bounds, constraints, tol, callback, options)\u001b[0m\n\u001b[1;32m    448\u001b[0m     \u001b[0;32melif\u001b[0m \u001b[0mmeth\u001b[0m \u001b[0;34m==\u001b[0m \u001b[0;34m'l-bfgs-b'\u001b[0m\u001b[0;34m:\u001b[0m\u001b[0;34m\u001b[0m\u001b[0m\n\u001b[1;32m    449\u001b[0m         return _minimize_lbfgsb(fun, x0, args, jac, bounds,\n\u001b[0;32m--> 450\u001b[0;31m                                 callback=callback, **options)\n\u001b[0m\u001b[1;32m    451\u001b[0m     \u001b[0;32melif\u001b[0m \u001b[0mmeth\u001b[0m \u001b[0;34m==\u001b[0m \u001b[0;34m'tnc'\u001b[0m\u001b[0;34m:\u001b[0m\u001b[0;34m\u001b[0m\u001b[0m\n\u001b[1;32m    452\u001b[0m         return _minimize_tnc(fun, x0, args, jac, bounds, callback=callback,\n",
      "\u001b[0;32m/home/angellica/anaconda3/lib/python3.6/site-packages/scipy/optimize/lbfgsb.py\u001b[0m in \u001b[0;36m_minimize_lbfgsb\u001b[0;34m(fun, x0, args, jac, bounds, disp, maxcor, ftol, gtol, eps, maxfun, maxiter, iprint, callback, maxls, **unknown_options)\u001b[0m\n\u001b[1;32m    319\u001b[0m         _lbfgsb.setulb(m, x, low_bnd, upper_bnd, nbd, f, g, factr,\n\u001b[1;32m    320\u001b[0m                        \u001b[0mpgtol\u001b[0m\u001b[0;34m,\u001b[0m \u001b[0mwa\u001b[0m\u001b[0;34m,\u001b[0m \u001b[0miwa\u001b[0m\u001b[0;34m,\u001b[0m \u001b[0mtask\u001b[0m\u001b[0;34m,\u001b[0m \u001b[0miprint\u001b[0m\u001b[0;34m,\u001b[0m \u001b[0mcsave\u001b[0m\u001b[0;34m,\u001b[0m \u001b[0mlsave\u001b[0m\u001b[0;34m,\u001b[0m\u001b[0;34m\u001b[0m\u001b[0m\n\u001b[0;32m--> 321\u001b[0;31m                        isave, dsave, maxls)\n\u001b[0m\u001b[1;32m    322\u001b[0m         \u001b[0mtask_str\u001b[0m \u001b[0;34m=\u001b[0m \u001b[0mtask\u001b[0m\u001b[0;34m.\u001b[0m\u001b[0mtostring\u001b[0m\u001b[0;34m(\u001b[0m\u001b[0;34m)\u001b[0m\u001b[0;34m\u001b[0m\u001b[0m\n\u001b[1;32m    323\u001b[0m         \u001b[0;32mif\u001b[0m \u001b[0mtask_str\u001b[0m\u001b[0;34m.\u001b[0m\u001b[0mstartswith\u001b[0m\u001b[0;34m(\u001b[0m\u001b[0;34mb'FG'\u001b[0m\u001b[0;34m)\u001b[0m\u001b[0;34m:\u001b[0m\u001b[0;34m\u001b[0m\u001b[0m\n",
      "\u001b[0;31merror\u001b[0m: failed in converting 7th argument `g' of _lbfgsb.setulb to C/Fortran array"
     ]
    }
   ],
   "source": [
    "lambda_val = 1;\n",
    "theta = compute_lambda(X_poly, y, lambda_val)\n",
    "\n",
    "plt.close()\n",
    "plt.figure(1)\n",
    "\n",
    "plt.plot(X, y, 'rx', markersize=10, linewidth=1.5)\n",
    "plot(min(X), max(X), mu, sigma, theta, p)\n",
    "plt.xlabel('Change in water level (x)') \n",
    "plt.ylabel('Water flowing out of the dam (y)')\n",
    "plt.title ('Polynomial Regression Fit (lambda = {:f})'.format(lambda_val))\n",
    "plt.show(block=False)\n",
    "\n",
    "plt.figure(2)\n",
    "error_train, error_val = cross_validation(X_poly, y, X_poly_val, yval, lambda_val)\n",
    "p1, p2 = plt.plot(range(1,m+1), error_train, range(1,m+1), error_val)\n",
    "\n",
    "plt.title('Polynomial Regression Learning Curve (lambda = {:f})'.format(lambda_val))\n",
    "plt.xlabel('Number of training examples')\n",
    "plt.ylabel('Error')\n",
    "plt.axis([0, 13, 0, 50])\n",
    "plt.legend((p1, p2), ('Train', 'Cross Validation'))\n",
    "plt.show(block=False)\n",
    "\n",
    "print('Polynomial Regression (lambda = {:f})\\n\\n'.format(lambda_val))\n",
    "print('# Training Examples\\tTrain Error\\tCross Validation Error\\n')\n",
    "for i in xrange(m):\n",
    "    print('  \\t{:d}\\t\\t{:f}\\t{:f}\\n'.format(i+1, float(error_train[i]), float(error_val[i])))\n"
   ]
  },
  {
   "cell_type": "code",
   "execution_count": null,
   "metadata": {
    "collapsed": true
   },
   "outputs": [],
   "source": []
  }
 ],
 "metadata": {
  "kernelspec": {
   "display_name": "Python 3",
   "language": "python",
   "name": "python3"
  },
  "language_info": {
   "codemirror_mode": {
    "name": "ipython",
    "version": 3
   },
   "file_extension": ".py",
   "mimetype": "text/x-python",
   "name": "python",
   "nbconvert_exporter": "python",
   "pygments_lexer": "ipython3",
   "version": "3.6.1"
  }
 },
 "nbformat": 4,
 "nbformat_minor": 2
}
